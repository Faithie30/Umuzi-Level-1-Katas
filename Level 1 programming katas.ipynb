{
 "cells": [
  {
   "cell_type": "markdown",
   "metadata": {},
   "source": [
    "# Level 1 programming katas\n",
    "\n",
    "### Assigned pair\n",
    "1. Siphiwe Mahlangu\n",
    "2. Faith Mabule\n",
    "\n",
    "## 1 hello"
   ]
  },
  {
   "cell_type": "code",
   "execution_count": 1,
   "metadata": {},
   "outputs": [],
   "source": [
    "def hello(name):\n",
    "    return 'Hello ' + name + '!'"
   ]
  },
  {
   "cell_type": "code",
   "execution_count": 2,
   "metadata": {},
   "outputs": [
    {
     "data": {
      "text/plain": [
       "'Hello Tshepo!'"
      ]
     },
     "execution_count": 2,
     "metadata": {},
     "output_type": "execute_result"
    }
   ],
   "source": [
    "hello(\"Tshepo\")"
   ]
  },
  {
   "cell_type": "markdown",
   "metadata": {},
   "source": [
    "## 2 odd/even"
   ]
  },
  {
   "cell_type": "code",
   "execution_count": 3,
   "metadata": {},
   "outputs": [],
   "source": [
    "def even_or_odd(n):\n",
    "    if n%2 == 0 :\n",
    "        print('even') \n",
    "    else:\n",
    "        print('odd')"
   ]
  },
  {
   "cell_type": "code",
   "execution_count": 4,
   "metadata": {},
   "outputs": [
    {
     "name": "stdout",
     "output_type": "stream",
     "text": [
      "odd\n"
     ]
    }
   ],
   "source": [
    "even_or_odd(3)"
   ]
  },
  {
   "cell_type": "markdown",
   "metadata": {},
   "source": [
    "## 3 square"
   ]
  },
  {
   "cell_type": "code",
   "execution_count": 5,
   "metadata": {},
   "outputs": [],
   "source": [
    "def square(n):\n",
    "    for i in range(n):\n",
    "        print('#' * n)"
   ]
  },
  {
   "cell_type": "code",
   "execution_count": 6,
   "metadata": {},
   "outputs": [
    {
     "name": "stdout",
     "output_type": "stream",
     "text": [
      "####\n",
      "####\n",
      "####\n",
      "####\n"
     ]
    }
   ],
   "source": [
    "square(4)"
   ]
  },
  {
   "cell_type": "markdown",
   "metadata": {},
   "source": [
    "## 4 triangle-right"
   ]
  },
  {
   "cell_type": "code",
   "execution_count": 7,
   "metadata": {},
   "outputs": [],
   "source": [
    "def triangle(n):\n",
    "    count = n\n",
    "    while n != 0:\n",
    "        for i in range(n):\n",
    "            print('#' * (count - (n - 1)))\n",
    "            n -= 1"
   ]
  },
  {
   "cell_type": "code",
   "execution_count": 8,
   "metadata": {},
   "outputs": [
    {
     "name": "stdout",
     "output_type": "stream",
     "text": [
      "#\n",
      "##\n",
      "###\n",
      "####\n"
     ]
    }
   ],
   "source": [
    "triangle(4)"
   ]
  },
  {
   "cell_type": "markdown",
   "metadata": {},
   "source": [
    "## 5 triangle-iso"
   ]
  },
  {
   "cell_type": "code",
   "execution_count": 9,
   "metadata": {},
   "outputs": [],
   "source": [
    "def isosceles(n):\n",
    "    n=2\n",
    "    i=0\n",
    "    count = 1\n",
    "    space = ' '\n",
    "    times = n\n",
    "    while i != n:\n",
    "        print(space*times + count * '#')\n",
    "        i+=1\n",
    "        count += 2\n",
    "        times -= 1"
   ]
  },
  {
   "cell_type": "code",
   "execution_count": 10,
   "metadata": {},
   "outputs": [
    {
     "name": "stdout",
     "output_type": "stream",
     "text": [
      "  #\n",
      " ###\n"
     ]
    }
   ],
   "source": [
    "isosceles(2)"
   ]
  },
  {
   "cell_type": "markdown",
   "metadata": {},
   "source": [
    "## 6 longest string\n",
    "\n",
    "### 6.1 For largest string"
   ]
  },
  {
   "cell_type": "code",
   "execution_count": 14,
   "metadata": {},
   "outputs": [],
   "source": [
    "list_given = [\"the\",\"quick\",\"brown\", \"fox\", \"ate\", \"my\", \"chickens\"]"
   ]
  },
  {
   "cell_type": "code",
   "execution_count": 15,
   "metadata": {},
   "outputs": [],
   "source": [
    "def longest(list_given):\n",
    "    place = 0\n",
    "    ans = list_given[0]\n",
    "    \n",
    "    while place < len(list_given) - 1:\n",
    "        place += 1\n",
    "        if len(list_given[place]) > list_given.index(ans):\n",
    "            ans = list_given[place]\n",
    "    print(ans)"
   ]
  },
  {
   "cell_type": "code",
   "execution_count": 16,
   "metadata": {},
   "outputs": [
    {
     "name": "stdout",
     "output_type": "stream",
     "text": [
      "chickens\n"
     ]
    }
   ],
   "source": [
    "longest(list_given)"
   ]
  },
  {
   "cell_type": "markdown",
   "metadata": {},
   "source": [
    "### 6.2  For multiple longest strings"
   ]
  },
  {
   "cell_type": "code",
   "execution_count": 17,
   "metadata": {},
   "outputs": [],
   "source": [
    "list_given = [\"once\", \"upon\", \"a\", \"time\"]"
   ]
  },
  {
   "cell_type": "code",
   "execution_count": 18,
   "metadata": {},
   "outputs": [],
   "source": [
    "def longest(list_given):\n",
    "    place = 0\n",
    "    ans = 0\n",
    "    word_collection = []\n",
    "    word_collection.append(list_given[place])\n",
    "    \n",
    "    while place < len(list_given) - 1:\n",
    "        place += 1\n",
    "        if len(list_given[place]) == len(list_given[ans]):\n",
    "            word_collection.append(list_given[place])\n",
    "        elif len(list_given[place]) > len(list_given[ans]):\n",
    "            word_collection.clear()\n",
    "            word_collection.append(list_given[place])\n",
    "            ans = list_given[place]\n",
    "        else:\n",
    "            pass\n",
    "            \n",
    "    print(word_collection)"
   ]
  },
  {
   "cell_type": "code",
   "execution_count": 19,
   "metadata": {
    "scrolled": true
   },
   "outputs": [
    {
     "name": "stdout",
     "output_type": "stream",
     "text": [
      "['once', 'upon', 'time']\n"
     ]
    }
   ],
   "source": [
    "longest(list_given)"
   ]
  },
  {
   "cell_type": "markdown",
   "metadata": {},
   "source": [
    "## 7 combine lists/arrays"
   ]
  },
  {
   "cell_type": "code",
   "execution_count": 20,
   "metadata": {},
   "outputs": [],
   "source": [
    "# combine([11,22,33], [1,2,3])\n",
    "a = [11,22,33]; b = [1,2,3]"
   ]
  },
  {
   "cell_type": "code",
   "execution_count": 21,
   "metadata": {},
   "outputs": [],
   "source": [
    "def combine(a, b):\n",
    "    ans = []\n",
    "    a_index = 0; b_index = 0\n",
    "    count = 0\n",
    "    \n",
    "    while count != len(a):\n",
    "        ans.append(a[a_index]); ans.append(b[b_index])\n",
    "        count += 1; a_index += 1; b_index += 1\n",
    "    print(ans)"
   ]
  },
  {
   "cell_type": "code",
   "execution_count": 22,
   "metadata": {},
   "outputs": [
    {
     "name": "stdout",
     "output_type": "stream",
     "text": [
      "[11, 1, 22, 2, 33, 3]\n"
     ]
    }
   ],
   "source": [
    "combine(a, b)"
   ]
  },
  {
   "cell_type": "markdown",
   "metadata": {},
   "source": [
    "## 8 frame text"
   ]
  },
  {
   "cell_type": "code",
   "execution_count": 23,
   "metadata": {},
   "outputs": [],
   "source": [
    "# frame([\"Write\",\"good\",\"code\",\"every\",\"day\"])\n",
    "a = [\"Write\",\"good\",\"code\",\"every\",\"day\"]"
   ]
  },
  {
   "cell_type": "code",
   "execution_count": 24,
   "metadata": {},
   "outputs": [],
   "source": [
    "def frame(a):\n",
    "    max_str = max(a, key = len)\n",
    "    breadth = (len(max_str) + 4) * '*' \n",
    "    count = 0\n",
    "    a_index = 0\n",
    "\n",
    "    print(breadth)\n",
    "    while count != len(a):\n",
    "        spaces_left = (len(max_str)) - len(a[a_index])\n",
    "        print('*', a[a_index], spaces_left * ' '+'*')\n",
    "        count += 1; a_index += 1\n",
    "    print(breadth)"
   ]
  },
  {
   "cell_type": "code",
   "execution_count": 25,
   "metadata": {},
   "outputs": [
    {
     "name": "stdout",
     "output_type": "stream",
     "text": [
      "*********\n",
      "* Write *\n",
      "* good  *\n",
      "* code  *\n",
      "* every *\n",
      "* day   *\n",
      "*********\n"
     ]
    }
   ],
   "source": [
    "frame(a)"
   ]
  }
 ],
 "metadata": {
  "kernelspec": {
   "display_name": "Python 3",
   "language": "python",
   "name": "python3"
  },
  "language_info": {
   "codemirror_mode": {
    "name": "ipython",
    "version": 3
   },
   "file_extension": ".py",
   "mimetype": "text/x-python",
   "name": "python",
   "nbconvert_exporter": "python",
   "pygments_lexer": "ipython3",
   "version": "3.7.4"
  }
 },
 "nbformat": 4,
 "nbformat_minor": 2
}
